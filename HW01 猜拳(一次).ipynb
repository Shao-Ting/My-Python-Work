{
 "cells": [
  {
   "cell_type": "code",
   "execution_count": 1,
   "metadata": {},
   "outputs": [],
   "source": [
    "%matplotlib inline\n",
    "import numpy as np\n",
    "import matplotlib.pyplot as plt\n",
    "import pandas as pd"
   ]
  },
  {
   "cell_type": "code",
   "execution_count": 2,
   "metadata": {},
   "outputs": [],
   "source": [
    "from numpy.random import randint\n",
    "from numpy.random import choice"
   ]
  },
  {
   "cell_type": "code",
   "execution_count": 7,
   "metadata": {},
   "outputs": [
    {
     "name": "stdout",
     "output_type": "stream",
     "text": [
      "請輸入要出的拳(剪刀、石頭、布):布\n",
      "電腦出「剪刀」/ 結果：敗\n"
     ]
    }
   ],
   "source": [
    "x = input('請輸入要出的拳(剪刀、石頭、布):')\n",
    "list = ['剪刀','石頭','布']\n",
    "y = choice(list,1)\n",
    "if x=='剪刀':\n",
    "    if y=='剪刀':\n",
    "        print('電腦出「剪刀」/ 結果：平手')\n",
    "    elif y=='石頭':\n",
    "        print('電腦出「石頭」/ 結果：敗')\n",
    "    elif y=='布':\n",
    "        print('電腦出「布」/ 結果：勝')\n",
    "elif x=='石頭':\n",
    "    if y=='剪刀':\n",
    "        print('電腦出「剪刀」/ 結果：勝')\n",
    "    elif y=='石頭':\n",
    "        print('電腦出「石頭」/ 結果：平手')\n",
    "    elif y=='布':\n",
    "        print('電腦出「布」/ 結果：敗')\n",
    "elif x=='布':\n",
    "    if y=='剪刀':\n",
    "        print('電腦出「剪刀」/ 結果：敗')\n",
    "    elif y=='石頭':\n",
    "        print('電腦出「石頭」/ 結果：勝')\n",
    "    elif y=='布':\n",
    "        print('電腦出「布」/ 結果：平手')"
   ]
  }
 ],
 "metadata": {
  "kernelspec": {
   "display_name": "Python 3",
   "language": "python",
   "name": "python3"
  },
  "language_info": {
   "codemirror_mode": {
    "name": "ipython",
    "version": 3
   },
   "file_extension": ".py",
   "mimetype": "text/x-python",
   "name": "python",
   "nbconvert_exporter": "python",
   "pygments_lexer": "ipython3",
   "version": "3.7.3"
  }
 },
 "nbformat": 4,
 "nbformat_minor": 2
}
