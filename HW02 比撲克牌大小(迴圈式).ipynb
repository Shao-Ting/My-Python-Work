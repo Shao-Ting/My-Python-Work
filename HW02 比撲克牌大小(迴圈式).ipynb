{
 "cells": [
  {
   "cell_type": "code",
   "execution_count": 1,
   "metadata": {},
   "outputs": [],
   "source": [
    "%matplotlib inline\n",
    "import numpy as np\n",
    "import matplotlib.pyplot as plt\n",
    "import pandas as pd"
   ]
  },
  {
   "cell_type": "code",
   "execution_count": 2,
   "metadata": {},
   "outputs": [],
   "source": [
    "class Card:          #黑桃♠、紅心♥、梅花♣、方塊♦\n",
    "    SUITS = ['♠','♥','♣','♦'] \n",
    "    RANKS = ['A','2','3','4','5','6','7','8','9','10','J','Q','K']\n",
    "    \n",
    "    def __init__(self,s,r): #記得要兩個底線#(我自己,花色,牌面)\n",
    "        self.suit = s\n",
    "        self.rank = r\n",
    "    \n",
    "    def __repr__(self):  ##\n",
    "        thecard = self.SUITS[self.suit] + self.RANKS[self.rank]\n",
    "        return thecard  ##"
   ]
  },
  {
   "cell_type": "code",
   "execution_count": 3,
   "metadata": {},
   "outputs": [],
   "source": [
    "from numpy.random import randint\n",
    "from numpy.random import choice"
   ]
  },
  {
   "cell_type": "code",
   "execution_count": 6,
   "metadata": {},
   "outputs": [
    {
     "name": "stdout",
     "output_type": "stream",
     "text": [
      "請問要發牌嗎?(若要結束遊戲，請輸入「不玩啦!」):要\n",
      "開始啦!!:\n",
      "電腦的牌:  ♦9\n",
      "您的牌:  ♣2\n",
      "敗\n",
      "請問要發牌嗎?(若要結束遊戲，請輸入「不玩啦!」):要\n",
      "開始啦!!:\n",
      "電腦的牌:  ♥5\n",
      "您的牌:  ♠6\n",
      "勝\n",
      "請問要發牌嗎?(若要結束遊戲，請輸入「不玩啦!」):要\n",
      "開始啦!!:\n",
      "電腦的牌:  ♣4\n",
      "您的牌:  ♥7\n",
      "勝\n",
      "請問要發牌嗎?(若要結束遊戲，請輸入「不玩啦!」):不玩啦!\n"
     ]
    }
   ],
   "source": [
    "msg='撲克牌比大小'\n",
    "while(msg!='不玩啦!'):\n",
    "    msg = input('請問要發牌嗎?(若要結束遊戲，請輸入「不玩啦!」):')\n",
    "    if '要'in msg:\n",
    "        b1 = np.random.randint(0, 4)\n",
    "        a1 = np.random.randint(0, 14)\n",
    "        c1 = np.random.randint(0, 4)\n",
    "        d1 = np.random.randint(0, 14)\n",
    "        card_ques1 = Card(b1, a1)\n",
    "        card_ans1 = Card(c1, d1)\n",
    "        print('開始啦!!:')\n",
    "        if a1>d1:\n",
    "            print('電腦的牌: ', card_ques1)\n",
    "            print('您的牌: ', card_ans1)\n",
    "            X1 = 0\n",
    "            print('敗')\n",
    "        elif a1<d1:\n",
    "            print('電腦的牌: ', card_ques1)\n",
    "            print('您的牌: ', card_ans1)\n",
    "            X1 = 1\n",
    "            print('勝')"
   ]
  },
  {
   "cell_type": "code",
   "execution_count": null,
   "metadata": {},
   "outputs": [],
   "source": []
  }
 ],
 "metadata": {
  "kernelspec": {
   "display_name": "Python 3",
   "language": "python",
   "name": "python3"
  },
  "language_info": {
   "codemirror_mode": {
    "name": "ipython",
    "version": 3
   },
   "file_extension": ".py",
   "mimetype": "text/x-python",
   "name": "python",
   "nbconvert_exporter": "python",
   "pygments_lexer": "ipython3",
   "version": "3.7.3"
  }
 },
 "nbformat": 4,
 "nbformat_minor": 2
}
