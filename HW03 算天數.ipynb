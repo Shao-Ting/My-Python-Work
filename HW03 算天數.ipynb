{
 "cells": [
  {
   "cell_type": "code",
   "execution_count": 1,
   "metadata": {},
   "outputs": [],
   "source": [
    "%matplotlib inline\n",
    "import numpy as np\n",
    "import matplotlib.pyplot as plt\n",
    "import pandas as pd\n",
    "import time"
   ]
  },
  {
   "cell_type": "code",
   "execution_count": 3,
   "metadata": {},
   "outputs": [
    {
     "name": "stdout",
     "output_type": "stream",
     "text": [
      "請輸入活動一起始日期(格式YYYY-MM-DD):2020-08-19\n",
      "請輸入活動二起始日期(格式YYYY-MM-DD):2020-06-07\n",
      "請輸入活動三起始日期(格式YYYY-MM-DD):2021-04-28\n",
      "請輸入今天日期(格式YYYY-MM-DD):2020-05-31\n",
      "距離活動一還有:  80 天\n",
      "距離活動二還有:  7 天\n",
      "距離活動三還有:  332 天\n"
     ]
    }
   ],
   "source": [
    "startday1=(input('請輸入活動一起始日期(格式YYYY-MM-DD):'))\n",
    "startday2=(input('請輸入活動二起始日期(格式YYYY-MM-DD):'))\n",
    "startday3=(input('請輸入活動三起始日期(格式YYYY-MM-DD):'))\n",
    "\n",
    "endday=(input('請輸入今天日期(格式YYYY-MM-DD):'))\n",
    "\n",
    "startsec1=time.mktime(time.strptime(startday1,'%Y-%m-%d'))\n",
    "startsec2=time.mktime(time.strptime(startday2,'%Y-%m-%d'))\n",
    "startsec3=time.mktime(time.strptime(startday3,'%Y-%m-%d'))\n",
    "\n",
    "endsec=time.mktime(time.strptime(endday,'%Y-%m-%d'))\n",
    "\n",
    "workday1=int((startsec1-endsec)/(24*3600))\n",
    "print('距離活動一還有: ',workday1,'天')\n",
    "\n",
    "workday2=int((startsec2-endsec)/(24*3600))\n",
    "print('距離活動二還有: ',workday2,'天')\n",
    "\n",
    "workday3=int((startsec3-endsec)/(24*3600))\n",
    "print('距離活動三還有: ',workday3,'天')"
   ]
  },
  {
   "cell_type": "code",
   "execution_count": null,
   "metadata": {},
   "outputs": [],
   "source": []
  }
 ],
 "metadata": {
  "kernelspec": {
   "display_name": "Python 3",
   "language": "python",
   "name": "python3"
  },
  "language_info": {
   "codemirror_mode": {
    "name": "ipython",
    "version": 3
   },
   "file_extension": ".py",
   "mimetype": "text/x-python",
   "name": "python",
   "nbconvert_exporter": "python",
   "pygments_lexer": "ipython3",
   "version": "3.7.3"
  }
 },
 "nbformat": 4,
 "nbformat_minor": 2
}
