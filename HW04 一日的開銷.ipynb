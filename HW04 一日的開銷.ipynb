{
 "cells": [
  {
   "cell_type": "code",
   "execution_count": 1,
   "metadata": {},
   "outputs": [],
   "source": [
    "%matplotlib inline\n",
    "import numpy as np\n",
    "import matplotlib.pyplot as plt\n",
    "import pandas as pd\n",
    "from ipywidgets import interact"
   ]
  },
  {
   "cell_type": "code",
   "execution_count": 2,
   "metadata": {},
   "outputs": [
    {
     "name": "stdout",
     "output_type": "stream",
     "text": [
      "請問要記錄幾項?(請輸入「12345」，若要結束紀錄，請輸入「結束!」):3\n",
      "請輸入項目:飲料\n",
      "金額:50\n",
      "請輸入項目:飯糰\n",
      "金額:35\n",
      "請輸入項目:書\n",
      "金額:550\n",
      "花了635元在飲料、飯糰和書上\n",
      "請問要記錄幾項?(請輸入「12345」，若要結束紀錄，請輸入「結束!」):結束\n"
     ]
    }
   ],
   "source": [
    "msg='一日開銷'\n",
    "while(msg!='結束'):\n",
    "    msg = input('請問要記錄幾項?(請輸入「12345」，若要結束紀錄，請輸入「結束!」):')\n",
    "    if '1'in msg:\n",
    "        x = input('請輸入項目:')\n",
    "        y = input('金額:')\n",
    "        print('花了'+ y +'元在'+ x +'上')\n",
    "    if '2' in msg:\n",
    "        x1 = input('請輸入項目:')\n",
    "        y1 = input('金額:')\n",
    "        x2 = input('請輸入項目:')\n",
    "        y2 = input('金額:')\n",
    "        y1 = int(y1)\n",
    "        y2 = int(y2)\n",
    "        y = y1 + y2\n",
    "        y = str(y)\n",
    "        print('花了'+ y +'元在'+ x1 + '、' + x2 +'上')\n",
    "    if '3' in msg:\n",
    "        x1 = input('請輸入項目:')\n",
    "        y1 = input('金額:')\n",
    "        x2 = input('請輸入項目:')\n",
    "        y2 = input('金額:')\n",
    "        x3 = input('請輸入項目:')\n",
    "        y3 = input('金額:')\n",
    "        y1 = int(y1)\n",
    "        y2 = int(y2)\n",
    "        y3 = int(y3)\n",
    "        y = y1 + y2 + y3\n",
    "        y = str(y)\n",
    "        print('花了'+ y +'元在'+ x1 + '、' + x2 + '和' + x3 +'上')\n",
    "    if '4' in msg:\n",
    "        x1 = input('請輸入項目:')\n",
    "        y1 = input('金額:')\n",
    "        x2 = input('請輸入項目:')\n",
    "        y2 = input('金額:')\n",
    "        x3 = input('請輸入項目:')\n",
    "        y3 = input('金額:')\n",
    "        x4 = input('請輸入項目:')\n",
    "        y4 = input('金額:')\n",
    "        y1 = int(y1)\n",
    "        y2 = int(y2)\n",
    "        y3 = int(y3)\n",
    "        y4 = int(y4)\n",
    "        y = y1 + y2 + y3 + y4\n",
    "        y = str(y)\n",
    "        print('花了'+ y +'元在'+ x1 + '、' + x2 + x3 +  '和' + x4 +'上')\n",
    "    if '5' in msg:\n",
    "        x1 = input('請輸入項目:')\n",
    "        y1 = input('金額:')\n",
    "        x2 = input('請輸入項目:')\n",
    "        y2 = input('金額:')\n",
    "        x3 = input('請輸入項目:')\n",
    "        y3 = input('金額:')\n",
    "        x4 = input('請輸入項目:')\n",
    "        y4 = input('金額:')\n",
    "        x5 = input('請輸入項目:')\n",
    "        y5 = input('金額:')\n",
    "        y1 = int(y1)\n",
    "        y2 = int(y2)\n",
    "        y3 = int(y3)\n",
    "        y4 = int(y4)\n",
    "        y5 = int(y5)\n",
    "        y = y1 + y2 + y3 + y4 + y5\n",
    "        y = str(y)\n",
    "        print('花了'+ y +'元在'+ x1 + '、' + x2 + x3 + x4 + '和' + x5 +'上')"
   ]
  }
 ],
 "metadata": {
  "kernelspec": {
   "display_name": "Python 3",
   "language": "python",
   "name": "python3"
  },
  "language_info": {
   "codemirror_mode": {
    "name": "ipython",
    "version": 3
   },
   "file_extension": ".py",
   "mimetype": "text/x-python",
   "name": "python",
   "nbconvert_exporter": "python",
   "pygments_lexer": "ipython3",
   "version": "3.7.3"
  }
 },
 "nbformat": 4,
 "nbformat_minor": 2
}
